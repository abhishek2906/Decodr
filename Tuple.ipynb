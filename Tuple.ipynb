{
  "nbformat": 4,
  "nbformat_minor": 0,
  "metadata": {
    "colab": {
      "name": "Tuple.ipynb",
      "provenance": [],
      "collapsed_sections": [],
      "include_colab_link": true
    },
    "kernelspec": {
      "display_name": "Python 3",
      "language": "python",
      "name": "python3"
    },
    "language_info": {
      "codemirror_mode": {
        "name": "ipython",
        "version": 3
      },
      "file_extension": ".py",
      "mimetype": "text/x-python",
      "name": "python",
      "nbconvert_exporter": "python",
      "pygments_lexer": "ipython3",
      "version": "3.8.5"
    }
  },
  "cells": [
    {
      "cell_type": "markdown",
      "metadata": {
        "id": "view-in-github",
        "colab_type": "text"
      },
      "source": [
        "<a href=\"https://colab.research.google.com/github/abhishek2906/Decodr/blob/main/Tuple.ipynb\" target=\"_parent\"><img src=\"https://colab.research.google.com/assets/colab-badge.svg\" alt=\"Open In Colab\"/></a>"
      ]
    },
    {
      "cell_type": "markdown",
      "metadata": {
        "id": "6BrA-4Y0uj1t"
      },
      "source": [
        "[Slide No- 39]\n",
        "\n",
        "1. Create empty tuple and check its Data type."
      ]
    },
    {
      "cell_type": "code",
      "metadata": {
        "colab": {
          "base_uri": "https://localhost:8080/"
        },
        "id": "EFzfOlfre9KM",
        "outputId": "afdee270-e8ac-4bbd-8b77-7dec2ded3d49"
      },
      "source": [
        "tuple = ()\n",
        "type(tuple)\n"
      ],
      "execution_count": 4,
      "outputs": [
        {
          "output_type": "execute_result",
          "data": {
            "text/plain": [
              "tuple"
            ]
          },
          "metadata": {
            "tags": []
          },
          "execution_count": 4
        }
      ]
    },
    {
      "cell_type": "markdown",
      "metadata": {
        "id": "0yF34ew-rA8r"
      },
      "source": [
        "**[Slide No. - 39]**\n",
        "\n",
        "\n",
        "\n",
        "2. Check the output : \n",
        "T1 = (101, \"Peter\", 22)    \n",
        "\n",
        "T2 = (\"Apple\", \"Banana\", \"Orange\") \n",
        "\n",
        "T3 = (10,20,30,40,50)  \n",
        "\n",
        "Print Data type of each tuple."
      ]
    },
    {
      "cell_type": "code",
      "metadata": {
        "colab": {
          "base_uri": "https://localhost:8080/"
        },
        "id": "osF6Ro0Je9g7",
        "outputId": "14eb9089-fad2-4518-e41a-e5698e99bc22"
      },
      "source": [
        "T2 = (\"Apple\", \"Banana\", \"Orange\")\n",
        "\n",
        "T3 = (10,20,30,40,50)\n",
        "\n",
        "type(T2)"
      ],
      "execution_count": 5,
      "outputs": [
        {
          "output_type": "execute_result",
          "data": {
            "text/plain": [
              "tuple"
            ]
          },
          "metadata": {
            "tags": []
          },
          "execution_count": 5
        }
      ]
    },
    {
      "cell_type": "code",
      "metadata": {
        "colab": {
          "base_uri": "https://localhost:8080/"
        },
        "id": "q2JjTfz_aBcF",
        "outputId": "a119f6f1-7fd6-4fb2-ae31-15c20412ae8c"
      },
      "source": [
        "T3 = (10,20,30,40,50)\n",
        "type(T3)"
      ],
      "execution_count": 6,
      "outputs": [
        {
          "output_type": "execute_result",
          "data": {
            "text/plain": [
              "tuple"
            ]
          },
          "metadata": {
            "tags": []
          },
          "execution_count": 6
        }
      ]
    },
    {
      "cell_type": "markdown",
      "metadata": {
        "id": "ghTaF2EmrBCJ"
      },
      "source": [
        "**[Slide No. - 40]**\n",
        "\n",
        "3.Write the program to print 0 index item of tuple .\n",
        "\n",
        "tup = (1,2,3,4,5,6,7)\n",
        "\n"
      ]
    },
    {
      "cell_type": "code",
      "metadata": {
        "colab": {
          "base_uri": "https://localhost:8080/"
        },
        "id": "3jJBczMne-G7",
        "outputId": "5e882556-a9a1-4d63-874e-6a4f0baa57fd"
      },
      "source": [
        "tup = (1,2,3,4,5,6,7)\n",
        "tup[0]"
      ],
      "execution_count": 10,
      "outputs": [
        {
          "output_type": "execute_result",
          "data": {
            "text/plain": [
              "1"
            ]
          },
          "metadata": {
            "tags": []
          },
          "execution_count": 10
        }
      ]
    },
    {
      "cell_type": "markdown",
      "metadata": {
        "id": "aZ_qeqMHrBE2"
      },
      "source": [
        "**[Slide No. - 40]**\n",
        "\n",
        "4.  What is the output of the program  \n",
        "\n",
        "tup = (1,2,3,4,5,6,7)\n",
        "\n",
        "print(tup[8])  "
      ]
    },
    {
      "cell_type": "code",
      "metadata": {
        "id": "3LsWZNpJe-sr",
        "colab": {
          "base_uri": "https://localhost:8080/",
          "height": 183
        },
        "outputId": "75a83807-0d01-4509-820d-3e4c7f6c325b"
      },
      "source": [
        "tup = (1,2,3,4,5,6,7)\n",
        "print(tup[8])"
      ],
      "execution_count": 11,
      "outputs": [
        {
          "output_type": "error",
          "ename": "IndexError",
          "evalue": "ignored",
          "traceback": [
            "\u001b[0;31m---------------------------------------------------------------------------\u001b[0m",
            "\u001b[0;31mIndexError\u001b[0m                                Traceback (most recent call last)",
            "\u001b[0;32m<ipython-input-11-32bf9f333b8a>\u001b[0m in \u001b[0;36m<module>\u001b[0;34m()\u001b[0m\n\u001b[1;32m      1\u001b[0m \u001b[0mtup\u001b[0m \u001b[0;34m=\u001b[0m \u001b[0;34m(\u001b[0m\u001b[0;36m1\u001b[0m\u001b[0;34m,\u001b[0m\u001b[0;36m2\u001b[0m\u001b[0;34m,\u001b[0m\u001b[0;36m3\u001b[0m\u001b[0;34m,\u001b[0m\u001b[0;36m4\u001b[0m\u001b[0;34m,\u001b[0m\u001b[0;36m5\u001b[0m\u001b[0;34m,\u001b[0m\u001b[0;36m6\u001b[0m\u001b[0;34m,\u001b[0m\u001b[0;36m7\u001b[0m\u001b[0;34m)\u001b[0m\u001b[0;34m\u001b[0m\u001b[0;34m\u001b[0m\u001b[0m\n\u001b[0;32m----> 2\u001b[0;31m \u001b[0mprint\u001b[0m\u001b[0;34m(\u001b[0m\u001b[0mtup\u001b[0m\u001b[0;34m[\u001b[0m\u001b[0;36m8\u001b[0m\u001b[0;34m]\u001b[0m\u001b[0;34m)\u001b[0m\u001b[0;34m\u001b[0m\u001b[0;34m\u001b[0m\u001b[0m\n\u001b[0m",
            "\u001b[0;31mIndexError\u001b[0m: tuple index out of range"
          ]
        }
      ]
    },
    {
      "cell_type": "markdown",
      "metadata": {
        "id": "aROdqHSPrBHM"
      },
      "source": [
        "**[Slide No. 40]**\n",
        "\n",
        "5.  Write a program to concate two tuple."
      ]
    },
    {
      "cell_type": "code",
      "metadata": {
        "colab": {
          "base_uri": "https://localhost:8080/"
        },
        "id": "kln1QAOLe_Gr",
        "outputId": "a0b3782e-940b-4cb9-98fa-8acc2424858a"
      },
      "source": [
        "tup1=(1,2,3)\n",
        "tup2=(3,4,5)\n",
        "tup1+tup2\n"
      ],
      "execution_count": 12,
      "outputs": [
        {
          "output_type": "execute_result",
          "data": {
            "text/plain": [
              "(1, 2, 3, 3, 4, 5)"
            ]
          },
          "metadata": {
            "tags": []
          },
          "execution_count": 12
        }
      ]
    },
    {
      "cell_type": "markdown",
      "metadata": {
        "id": "C7BdniSyrBJb"
      },
      "source": [
        "**[Slide No. 40]**\n",
        "\n",
        "6 .  Write a program to create the tuple and delete the items?"
      ]
    },
    {
      "cell_type": "code",
      "metadata": {
        "colab": {
          "base_uri": "https://localhost:8080/"
        },
        "id": "JnBgxEFEe_rL",
        "outputId": "85a3d231-c5d9-43ea-fc6a-b6a1c445eef9"
      },
      "source": [
        "tup1=(1,2,3,7,9)\n",
        "a=list(tup1)\n",
        "a.remove(1)\n",
        "a"
      ],
      "execution_count": 27,
      "outputs": [
        {
          "output_type": "execute_result",
          "data": {
            "text/plain": [
              "[2, 3, 7, 9]"
            ]
          },
          "metadata": {
            "tags": []
          },
          "execution_count": 27
        }
      ]
    },
    {
      "cell_type": "code",
      "metadata": {
        "id": "p0aT3fOzVRad"
      },
      "source": [
        ""
      ],
      "execution_count": null,
      "outputs": []
    },
    {
      "cell_type": "markdown",
      "metadata": {
        "id": "rbAjLzFyrBU1"
      },
      "source": [
        "**[Slide No. 40]**\n",
        "\n",
        "7. Write a program to delete  2 index value from  tuples?"
      ]
    },
    {
      "cell_type": "code",
      "metadata": {
        "id": "cckHUdKnfAL7",
        "colab": {
          "base_uri": "https://localhost:8080/"
        },
        "outputId": "bcf25691-4ca8-4c27-84a2-9b2d3f3efc5e"
      },
      "source": [
        "tup1=(1,2,3,4)\n",
        "a=list(tup1)\n",
        "a\n",
        "del a [1:3]\n",
        "a"
      ],
      "execution_count": 5,
      "outputs": [
        {
          "output_type": "execute_result",
          "data": {
            "text/plain": [
              "[1, 4]"
            ]
          },
          "metadata": {
            "tags": []
          },
          "execution_count": 5
        }
      ]
    },
    {
      "cell_type": "markdown",
      "metadata": {
        "id": "EmyErnscvJyV"
      },
      "source": [
        "**[Slide No. 40]**\n",
        "\n",
        "8. Check the output of \n",
        "tuple1 = (1, 2, 3, 4, 5)    \n",
        "\n",
        "using negative indexing print last two item of tuple\n",
        "\n",
        "using negative indexing print '4' from the tuple\n",
        "\n",
        "using negative indexing print all items of the list \n"
      ]
    },
    {
      "cell_type": "code",
      "metadata": {
        "colab": {
          "base_uri": "https://localhost:8080/"
        },
        "id": "IkQiPA4neVHN",
        "outputId": "3d630c03-188c-4f02-d66f-7c17d922a37c"
      },
      "source": [
        "tuple1 = (1, 2, 3, 4, 5)\n",
        "tuple1[-2:]"
      ],
      "execution_count": 10,
      "outputs": [
        {
          "output_type": "execute_result",
          "data": {
            "text/plain": [
              "(4, 5)"
            ]
          },
          "metadata": {
            "tags": []
          },
          "execution_count": 10
        }
      ]
    },
    {
      "cell_type": "code",
      "metadata": {
        "colab": {
          "base_uri": "https://localhost:8080/"
        },
        "id": "cOo5qNm3ZWdr",
        "outputId": "783e1e67-93e2-4030-b89c-63d2a59ce889"
      },
      "source": [
        "tuple1[-2]"
      ],
      "execution_count": 12,
      "outputs": [
        {
          "output_type": "execute_result",
          "data": {
            "text/plain": [
              "4"
            ]
          },
          "metadata": {
            "tags": []
          },
          "execution_count": 12
        }
      ]
    },
    {
      "cell_type": "code",
      "metadata": {
        "id": "24qRX5gKfUi7"
      },
      "source": [
        "a=list(tuple1)"
      ],
      "execution_count": 18,
      "outputs": []
    },
    {
      "cell_type": "code",
      "metadata": {
        "colab": {
          "base_uri": "https://localhost:8080/"
        },
        "id": "Fy6o5nbSfhQr",
        "outputId": "57816046-37b1-4cb9-b11a-7aedf7fe4ea9"
      },
      "source": [
        "a"
      ],
      "execution_count": 20,
      "outputs": [
        {
          "output_type": "execute_result",
          "data": {
            "text/plain": [
              "[1, 2, 3, 4, 5]"
            ]
          },
          "metadata": {
            "tags": []
          },
          "execution_count": 20
        }
      ]
    },
    {
      "cell_type": "code",
      "metadata": {
        "colab": {
          "base_uri": "https://localhost:8080/"
        },
        "id": "srSpbwGWgDvc",
        "outputId": "5e3f94d2-3f6b-44bb-da47-86f549804378"
      },
      "source": [
        "a[-5:]"
      ],
      "execution_count": 21,
      "outputs": [
        {
          "output_type": "execute_result",
          "data": {
            "text/plain": [
              "[1, 2, 3, 4, 5]"
            ]
          },
          "metadata": {
            "tags": []
          },
          "execution_count": 21
        }
      ]
    },
    {
      "cell_type": "code",
      "metadata": {
        "id": "0kakSDIrgL1N"
      },
      "source": [
        ""
      ],
      "execution_count": null,
      "outputs": []
    }
  ]
}