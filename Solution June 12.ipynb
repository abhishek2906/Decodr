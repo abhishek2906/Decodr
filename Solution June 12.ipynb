{
  "nbformat": 4,
  "nbformat_minor": 0,
  "metadata": {
    "colab": {
      "name": "(june 12)Variable_and_operator_.ipynb",
      "provenance": [],
      "collapsed_sections": []
    },
    "kernelspec": {
      "name": "python3",
      "display_name": "Python 3"
    },
    "language_info": {
      "name": "python"
    }
  },
  "cells": [
    {
      "cell_type": "markdown",
      "metadata": {
        "id": "xkS9gXm7JAwb"
      },
      "source": [
        "# Variable and Operator "
      ]
    },
    {
      "cell_type": "markdown",
      "metadata": {
        "id": "bpWJpSkLKLHd"
      },
      "source": [
        "**[Slide No.- 19]**\n",
        "\n",
        "1. Which one of the following is correct way of declaring and initialising a variable, x with value 5?\n",
        "\n",
        "A. int x\n",
        "  \n",
        "    x=5\n",
        "\n",
        "B. int x=5\n",
        "\n",
        "C. x=5\n",
        "\n",
        "D. declare x=5\n",
        "\n",
        "\n",
        "\n",
        "\n"
      ]
    },
    {
      "cell_type": "code",
      "metadata": {
        "id": "-gWs4ttlI3TT",
        "colab": {
          "base_uri": "https://localhost:8080/"
        },
        "outputId": "1ebd5f32-5bdb-4b69-fa34-5cc91f4babdb"
      },
      "source": [
        "x=5\n",
        "x"
      ],
      "execution_count": 2,
      "outputs": [
        {
          "output_type": "execute_result",
          "data": {
            "text/plain": [
              "5"
            ]
          },
          "metadata": {
            "tags": []
          },
          "execution_count": 2
        }
      ]
    },
    {
      "cell_type": "code",
      "metadata": {
        "colab": {
          "base_uri": "https://localhost:8080/",
          "height": 131
        },
        "id": "dETQij_Crw-j",
        "outputId": "a0a06589-5276-4cf4-f030-cde3c62ad688"
      },
      "source": [
        "int x=5"
      ],
      "execution_count": 50,
      "outputs": [
        {
          "output_type": "error",
          "ename": "SyntaxError",
          "evalue": "ignored",
          "traceback": [
            "\u001b[0;36m  File \u001b[0;32m\"<ipython-input-50-e82da45fb626>\"\u001b[0;36m, line \u001b[0;32m1\u001b[0m\n\u001b[0;31m    int x=5\u001b[0m\n\u001b[0m        ^\u001b[0m\n\u001b[0;31mSyntaxError\u001b[0m\u001b[0;31m:\u001b[0m invalid syntax\n"
          ]
        }
      ]
    },
    {
      "cell_type": "markdown",
      "metadata": {
        "id": "gpg53f-UKhi1"
      },
      "source": [
        "**[Slide No.-19]**\n",
        "\n",
        "2. Which of the following is not valid variable name in Python?\n",
        "\n",
        "A. _var = 6\n",
        "\n",
        "B. var_name = 6\n",
        "\n",
        "C. var11 = 6\n",
        "\n",
        "D. 11var = 6"
      ]
    },
    {
      "cell_type": "code",
      "metadata": {
        "id": "4eFCqihlKg6W",
        "colab": {
          "base_uri": "https://localhost:8080/",
          "height": 131
        },
        "outputId": "b947e8b9-ef80-49de-e8b8-58cb9e30fbc2"
      },
      "source": [
        "_var=6\n",
        "_var\n",
        "var_name=6\n",
        "var11=6\n",
        "11var=6\n",
        "var_name"
      ],
      "execution_count": 5,
      "outputs": [
        {
          "output_type": "error",
          "ename": "SyntaxError",
          "evalue": "ignored",
          "traceback": [
            "\u001b[0;36m  File \u001b[0;32m\"<ipython-input-5-98814def2513>\"\u001b[0;36m, line \u001b[0;32m5\u001b[0m\n\u001b[0;31m    11var=6\u001b[0m\n\u001b[0m        ^\u001b[0m\n\u001b[0;31mSyntaxError\u001b[0m\u001b[0;31m:\u001b[0m invalid syntax\n"
          ]
        }
      ]
    },
    {
      "cell_type": "markdown",
      "metadata": {
        "id": "uIU52OVeLOO2"
      },
      "source": [
        "**[Slide No.- 19]**\n",
        "\n",
        "\n",
        "3. Which of the following will give error?\n",
        "\n",
        "A. a=b=c=1\n",
        "\n",
        "B. a,b,c=1\n",
        "\n",
        "C. a b c=1, 4, 1.5\n",
        "\n",
        "D. None of the above"
      ]
    },
    {
      "cell_type": "code",
      "metadata": {
        "id": "ZFU-przBLmgX",
        "colab": {
          "base_uri": "https://localhost:8080/",
          "height": 201
        },
        "outputId": "dd8e1d57-40c2-48f8-fb05-54f384d415de"
      },
      "source": [
        "a=b=c=1\n",
        "a,b,c=1\n",
        "abc=1,4,1.5"
      ],
      "execution_count": 14,
      "outputs": [
        {
          "output_type": "error",
          "ename": "TypeError",
          "evalue": "ignored",
          "traceback": [
            "\u001b[0;31m---------------------------------------------------------------------------\u001b[0m",
            "\u001b[0;31mTypeError\u001b[0m                                 Traceback (most recent call last)",
            "\u001b[0;32m<ipython-input-14-2b3b2ba0e20c>\u001b[0m in \u001b[0;36m<module>\u001b[0;34m()\u001b[0m\n\u001b[1;32m      1\u001b[0m \u001b[0ma\u001b[0m\u001b[0;34m=\u001b[0m\u001b[0mb\u001b[0m\u001b[0;34m=\u001b[0m\u001b[0mc\u001b[0m\u001b[0;34m=\u001b[0m\u001b[0;36m1\u001b[0m\u001b[0;34m\u001b[0m\u001b[0;34m\u001b[0m\u001b[0m\n\u001b[0;32m----> 2\u001b[0;31m \u001b[0ma\u001b[0m\u001b[0;34m,\u001b[0m\u001b[0mb\u001b[0m\u001b[0;34m,\u001b[0m\u001b[0mc\u001b[0m\u001b[0;34m=\u001b[0m\u001b[0;36m1\u001b[0m\u001b[0;34m\u001b[0m\u001b[0;34m\u001b[0m\u001b[0m\n\u001b[0m\u001b[1;32m      3\u001b[0m \u001b[0mabc\u001b[0m\u001b[0;34m=\u001b[0m\u001b[0;36m1\u001b[0m\u001b[0;34m,\u001b[0m\u001b[0;36m4\u001b[0m\u001b[0;34m,\u001b[0m\u001b[0;36m1.5\u001b[0m\u001b[0;34m\u001b[0m\u001b[0;34m\u001b[0m\u001b[0m\n",
            "\u001b[0;31mTypeError\u001b[0m: cannot unpack non-iterable int object"
          ]
        }
      ]
    },
    {
      "cell_type": "code",
      "metadata": {
        "colab": {
          "base_uri": "https://localhost:8080/"
        },
        "id": "2BFzGcTIhQiS",
        "outputId": "74f2969d-d130-4706-e96b-ee8c22a51910"
      },
      "source": [
        "abc=1,4,1.5\n",
        "abc"
      ],
      "execution_count": 15,
      "outputs": [
        {
          "output_type": "execute_result",
          "data": {
            "text/plain": [
              "(1, 4, 1.5)"
            ]
          },
          "metadata": {
            "tags": []
          },
          "execution_count": 15
        }
      ]
    },
    {
      "cell_type": "code",
      "metadata": {
        "colab": {
          "base_uri": "https://localhost:8080/",
          "height": 166
        },
        "id": "-WYKWs7uhqn7",
        "outputId": "8e05ca18-d173-4412-deba-e82a197655a0"
      },
      "source": [
        "a,b,c=1"
      ],
      "execution_count": 16,
      "outputs": [
        {
          "output_type": "error",
          "ename": "TypeError",
          "evalue": "ignored",
          "traceback": [
            "\u001b[0;31m---------------------------------------------------------------------------\u001b[0m",
            "\u001b[0;31mTypeError\u001b[0m                                 Traceback (most recent call last)",
            "\u001b[0;32m<ipython-input-16-15d314ab1204>\u001b[0m in \u001b[0;36m<module>\u001b[0;34m()\u001b[0m\n\u001b[0;32m----> 1\u001b[0;31m \u001b[0ma\u001b[0m\u001b[0;34m,\u001b[0m\u001b[0mb\u001b[0m\u001b[0;34m,\u001b[0m\u001b[0mc\u001b[0m\u001b[0;34m=\u001b[0m\u001b[0;36m1\u001b[0m\u001b[0;34m\u001b[0m\u001b[0;34m\u001b[0m\u001b[0m\n\u001b[0m",
            "\u001b[0;31mTypeError\u001b[0m: cannot unpack non-iterable int object"
          ]
        }
      ]
    },
    {
      "cell_type": "markdown",
      "metadata": {
        "id": "sOaKfvOMMdEw"
      },
      "source": [
        "**[Slide No.- 21]**\n",
        "\n",
        "4. What is the output of the following code\n",
        "\n",
        "x = 6\n",
        "\n",
        "y = 2\n",
        "\n",
        "a=print(x ** y)\n",
        "\n",
        "b= print(x // y)"
      ]
    },
    {
      "cell_type": "code",
      "metadata": {
        "id": "8Y5nOCbuLywt",
        "colab": {
          "base_uri": "https://localhost:8080/"
        },
        "outputId": "9c166f82-cca6-4dfe-c3ed-f0d907b22595"
      },
      "source": [
        "x=6\n",
        "y=2\n",
        "a=print(x**y)\n",
        "\n"
      ],
      "execution_count": 19,
      "outputs": [
        {
          "output_type": "stream",
          "text": [
            "36\n"
          ],
          "name": "stdout"
        }
      ]
    },
    {
      "cell_type": "markdown",
      "metadata": {
        "id": "-FxzjkhMNkZw"
      },
      "source": [
        "**[Slide No.-21]**\n",
        "\n",
        "# find the value of this expression (v+w) * x/ y\n",
        "v = 4\n",
        "\n",
        "w = 5\n",
        "\n",
        "x = 8\n",
        "\n",
        "\n",
        "y = 2\n",
        "\n",
        "z = 0"
      ]
    },
    {
      "cell_type": "code",
      "metadata": {
        "id": "kx6gTDJWNjnT",
        "colab": {
          "base_uri": "https://localhost:8080/"
        },
        "outputId": "c6e62fe2-1ea9-4397-a178-a46ea44f4d0a"
      },
      "source": [
        "v=4\n",
        "w=5\n",
        "x=8\n",
        "y=2\n",
        "z=0\n",
        "(v+w)*x/y\n"
      ],
      "execution_count": 20,
      "outputs": [
        {
          "output_type": "execute_result",
          "data": {
            "text/plain": [
              "36.0"
            ]
          },
          "metadata": {
            "tags": []
          },
          "execution_count": 20
        }
      ]
    },
    {
      "cell_type": "markdown",
      "metadata": {
        "id": "KrG9aIGjN6C5"
      },
      "source": [
        "**[Slide No.- 21]**\n",
        "\n",
        "6. What is the output of print(10 - 4 * 2)"
      ]
    },
    {
      "cell_type": "code",
      "metadata": {
        "id": "VfvhDJ2zN5bg",
        "colab": {
          "base_uri": "https://localhost:8080/"
        },
        "outputId": "c78c996a-bc8b-4873-dc13-9c60955bd6b9"
      },
      "source": [
        "print(10-4*2)"
      ],
      "execution_count": 21,
      "outputs": [
        {
          "output_type": "stream",
          "text": [
            "2\n"
          ],
          "name": "stdout"
        }
      ]
    },
    {
      "cell_type": "markdown",
      "metadata": {
        "id": "k3JGKOfQOBhQ"
      },
      "source": [
        "**[Slide No.-21]**\n",
        "\n",
        "7. What is the output of print(2 * 3 ** 3 * 4)"
      ]
    },
    {
      "cell_type": "code",
      "metadata": {
        "id": "BYuPgLHZOAr4",
        "colab": {
          "base_uri": "https://localhost:8080/"
        },
        "outputId": "0c4fbb71-826d-4614-d7e9-58e1123b22b1"
      },
      "source": [
        "print(2*3**3*4)"
      ],
      "execution_count": 22,
      "outputs": [
        {
          "output_type": "stream",
          "text": [
            "216\n"
          ],
          "name": "stdout"
        }
      ]
    },
    {
      "cell_type": "markdown",
      "metadata": {
        "id": "xW2pUR61OMGp"
      },
      "source": [
        "8. What is the output of the expression  print(-18 // 4)"
      ]
    },
    {
      "cell_type": "code",
      "metadata": {
        "id": "nkDvUrFIOLWo",
        "colab": {
          "base_uri": "https://localhost:8080/"
        },
        "outputId": "c931756c-d65f-4db7-ceab-98eb989d2dca"
      },
      "source": [
        "print(-18//4)"
      ],
      "execution_count": 28,
      "outputs": [
        {
          "output_type": "stream",
          "text": [
            "-5\n"
          ],
          "name": "stdout"
        }
      ]
    },
    {
      "cell_type": "code",
      "metadata": {
        "colab": {
          "base_uri": "https://localhost:8080/"
        },
        "id": "lUjjFOHcMk3z",
        "outputId": "69b8c018-3074-40cd-8252-a1af7f82e061"
      },
      "source": [
        "x=8\n",
        "x -=8+x    # X+8+8       x += 8       # x-(8+x)=x-8-x\n",
        "print(x)"
      ],
      "execution_count": null,
      "outputs": [
        {
          "output_type": "stream",
          "text": [
            "-8\n"
          ],
          "name": "stdout"
        }
      ]
    },
    {
      "cell_type": "markdown",
      "metadata": {
        "id": "jKsDtqzXOu1Y"
      },
      "source": [
        "**[Slide No.- 21]**\n",
        "\n",
        "9. Write a program to check 5 is less then 10 or greater then 3."
      ]
    },
    {
      "cell_type": "code",
      "metadata": {
        "id": "F-FwpWUMOuNU",
        "colab": {
          "base_uri": "https://localhost:8080/"
        },
        "outputId": "39c3d648-6366-4e9a-e946-c12ae4b41fe9"
      },
      "source": [
        "x=5 \n",
        "a=10\n",
        "b=3\n",
        "if x<a or x>b:\n",
        "  print(\"5 is less then 10 or greater then 3\")\n",
        "else:\n",
        "  print(NA)"
      ],
      "execution_count": 38,
      "outputs": [
        {
          "output_type": "stream",
          "text": [
            "5 is less then 10 or greater then 3\n"
          ],
          "name": "stdout"
        }
      ]
    },
    {
      "cell_type": "code",
      "metadata": {
        "colab": {
          "base_uri": "https://localhost:8080/"
        },
        "id": "5sLrspbelWVB",
        "outputId": "a97cd59a-2efe-49ef-a89c-547904ca69d1"
      },
      "source": [
        "x=5 \n",
        "a=10\n",
        "b=3\n",
        "x<a and x>b"
      ],
      "execution_count": 39,
      "outputs": [
        {
          "output_type": "execute_result",
          "data": {
            "text/plain": [
              "True"
            ]
          },
          "metadata": {
            "tags": []
          },
          "execution_count": 39
        }
      ]
    },
    {
      "cell_type": "code",
      "metadata": {
        "colab": {
          "base_uri": "https://localhost:8080/"
        },
        "id": "Nj9PysQhPv-N",
        "outputId": "7580d2c8-1b81-4d2c-e6e1-a78d94d342b9"
      },
      "source": [
        "a=int(input('enter number'))    # usaed to take the input from the user\n",
        "b=int(input('enter number'))\n",
        "c=int(input('enter number'))\n",
        "if a<b and a>c:\n",
        "  print('true')\n",
        "else:\n",
        "  print('false')\n"
      ],
      "execution_count": null,
      "outputs": [
        {
          "output_type": "stream",
          "text": [
            "enter number5\n",
            "enter number6\n",
            "enter number8\n",
            "false\n"
          ],
          "name": "stdout"
        }
      ]
    },
    {
      "cell_type": "markdown",
      "metadata": {
        "id": "tZ86dv17lJaf"
      },
      "source": [
        "10 . Write a program  by using 'and' ,'or' And 'not' operator ?"
      ]
    },
    {
      "cell_type": "code",
      "metadata": {
        "id": "81iiP2NKvwXV",
        "colab": {
          "base_uri": "https://localhost:8080/"
        },
        "outputId": "4bcb8023-eda7-4a67-c708-db20dfd88f7c"
      },
      "source": [
        "x=3\n",
        "y=6\n",
        "x<y and y>x"
      ],
      "execution_count": 42,
      "outputs": [
        {
          "output_type": "execute_result",
          "data": {
            "text/plain": [
              "True"
            ]
          },
          "metadata": {
            "tags": []
          },
          "execution_count": 42
        }
      ]
    },
    {
      "cell_type": "code",
      "metadata": {
        "colab": {
          "base_uri": "https://localhost:8080/"
        },
        "id": "q-veNPPBRsLj",
        "outputId": "d01ac4b2-24fd-4938-affb-5d618cbb190b"
      },
      "source": [
        "x=3\n",
        "y=6\n",
        "x<y or y<x"
      ],
      "execution_count": 43,
      "outputs": [
        {
          "output_type": "execute_result",
          "data": {
            "text/plain": [
              "True"
            ]
          },
          "metadata": {
            "tags": []
          },
          "execution_count": 43
        }
      ]
    },
    {
      "cell_type": "code",
      "metadata": {
        "colab": {
          "base_uri": "https://localhost:8080/"
        },
        "id": "g5qpwg13mNXj",
        "outputId": "8430d427-5893-49b2-b03f-7f40836f4875"
      },
      "source": [
        "x=5\n",
        "y=18\n",
        "not((x+y)<(x-y))"
      ],
      "execution_count": 44,
      "outputs": [
        {
          "output_type": "execute_result",
          "data": {
            "text/plain": [
              "True"
            ]
          },
          "metadata": {
            "tags": []
          },
          "execution_count": 44
        }
      ]
    },
    {
      "cell_type": "markdown",
      "metadata": {
        "id": "4h-oViRKvxJY"
      },
      "source": [
        "**[Slide No.- 27]**\n",
        "\n",
        "11. What is the output of the following assignment operator\n",
        "\n",
        "y = 10\n",
        "\n",
        "y += 2\n",
        "\n",
        "print(y)"
      ]
    },
    {
      "cell_type": "code",
      "metadata": {
        "id": "rK0jrT2Kv4Do",
        "colab": {
          "base_uri": "https://localhost:8080/"
        },
        "outputId": "0cd82908-594a-4e35-9693-3e1486feab8e"
      },
      "source": [
        "y = 10\n",
        "y += 2\n",
        "y"
      ],
      "execution_count": 45,
      "outputs": [
        {
          "output_type": "execute_result",
          "data": {
            "text/plain": [
              "12"
            ]
          },
          "metadata": {
            "tags": []
          },
          "execution_count": 45
        }
      ]
    },
    {
      "cell_type": "markdown",
      "metadata": {
        "id": "RodqAVuDRXcY"
      },
      "source": [
        "**[Slide No.-27]**\n",
        "\n",
        "12. What is the output of the code .\n",
        "\n",
        "x=5\n",
        "\n",
        "x +=x+4\n",
        "\n",
        "print(x)\n"
      ]
    },
    {
      "cell_type": "code",
      "metadata": {
        "id": "qZ7OH6KIRaJJ",
        "colab": {
          "base_uri": "https://localhost:8080/"
        },
        "outputId": "c50b219e-b387-4dd5-f58e-c23fe7b4c041"
      },
      "source": [
        "x=5\n",
        "x +=x+4\n",
        "x"
      ],
      "execution_count": 46,
      "outputs": [
        {
          "output_type": "execute_result",
          "data": {
            "text/plain": [
              "14"
            ]
          },
          "metadata": {
            "tags": []
          },
          "execution_count": 46
        }
      ]
    },
    {
      "cell_type": "markdown",
      "metadata": {
        "id": "ymG3gW4eT3F7"
      },
      "source": [
        "**[Slide No.-27]**\n",
        "\n",
        "13.  what is the output :\n",
        "\n",
        "y=7\n",
        "\n",
        "x  +=y+4\n",
        "\n",
        "print(x)"
      ]
    },
    {
      "cell_type": "code",
      "metadata": {
        "id": "4tW3Sr0bSOTK",
        "colab": {
          "base_uri": "https://localhost:8080/"
        },
        "outputId": "b46e4976-2c2c-4436-cfe4-f03ce1a5db4e"
      },
      "source": [
        "y=7\n",
        "x +=y+4\n",
        "x"
      ],
      "execution_count": 47,
      "outputs": [
        {
          "output_type": "execute_result",
          "data": {
            "text/plain": [
              "25"
            ]
          },
          "metadata": {
            "tags": []
          },
          "execution_count": 47
        }
      ]
    },
    {
      "cell_type": "code",
      "metadata": {
        "id": "frBxuwIGc6E0",
        "colab": {
          "base_uri": "https://localhost:8080/"
        },
        "outputId": "2fa25225-7ca0-4384-816d-d38507a12a5f"
      },
      "source": [
        "x=6                #110\n",
        "x=x|3              #011   \n",
        "print(x)           #  010"
      ],
      "execution_count": null,
      "outputs": [
        {
          "output_type": "stream",
          "text": [
            "7\n"
          ],
          "name": "stdout"
        }
      ]
    },
    {
      "cell_type": "code",
      "metadata": {
        "colab": {
          "base_uri": "https://localhost:8080/"
        },
        "id": "tXqq-wwjsOIY",
        "outputId": "5536c751-bd9a-4491-ac09-dc5c278ed9cb"
      },
      "source": [
        "x=6\n",
        "x=x>>2                 # 6 = 110 --> 011 --> 001 = 1 \n",
        "\n",
        "print(x)"
      ],
      "execution_count": null,
      "outputs": [
        {
          "output_type": "stream",
          "text": [
            "1\n"
          ],
          "name": "stdout"
        }
      ]
    },
    {
      "cell_type": "code",
      "metadata": {
        "colab": {
          "base_uri": "https://localhost:8080/"
        },
        "id": "L0ZIWAPksT0T",
        "outputId": "ff19384f-87fb-4378-aaaa-6d98a637ddde"
      },
      "source": [
        ""
      ],
      "execution_count": null,
      "outputs": [
        {
          "output_type": "stream",
          "text": [
            "-5\n"
          ],
          "name": "stdout"
        }
      ]
    }
  ]
}