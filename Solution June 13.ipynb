{
  "nbformat": 4,
  "nbformat_minor": 0,
  "metadata": {
    "colab": {
      "name": "(june 13)list_DType.ipynb",
      "provenance": [],
      "collapsed_sections": []
    },
    "kernelspec": {
      "name": "python3",
      "display_name": "Python 3"
    },
    "language_info": {
      "name": "python"
    }
  },
  "cells": [
    {
      "cell_type": "markdown",
      "metadata": {
        "id": "7DHlxw7KS4LO"
      },
      "source": [
        "**[Slide No.- 35]**\n",
        "\n",
        "1. Create a empty list and check its Data type "
      ]
    },
    {
      "cell_type": "code",
      "metadata": {
        "id": "9tPdozyQj7cu",
        "colab": {
          "base_uri": "https://localhost:8080/"
        },
        "outputId": "e14b2943-7cfe-4f74-c1aa-349da0f080d0"
      },
      "source": [
        "list1 = []\n",
        "len(list1)\n",
        "type(list1)"
      ],
      "execution_count": 25,
      "outputs": [
        {
          "output_type": "execute_result",
          "data": {
            "text/plain": [
              "list"
            ]
          },
          "metadata": {
            "tags": []
          },
          "execution_count": 25
        }
      ]
    },
    {
      "cell_type": "code",
      "metadata": {
        "id": "RtfUHgj5a45J",
        "colab": {
          "base_uri": "https://localhost:8080/"
        },
        "outputId": "2a7f3074-7258-446c-bea5-e960cfcd4c18"
      },
      "source": [
        ""
      ],
      "execution_count": null,
      "outputs": [
        {
          "output_type": "stream",
          "text": [
            "data type of a:  <class 'list'>\n"
          ],
          "name": "stdout"
        }
      ]
    },
    {
      "cell_type": "markdown",
      "metadata": {
        "id": "4EnsxsI0FPcv"
      },
      "source": [
        ""
      ]
    },
    {
      "cell_type": "code",
      "metadata": {
        "id": "ef5HNtgtSDwz"
      },
      "source": [
        ""
      ],
      "execution_count": 16,
      "outputs": []
    },
    {
      "cell_type": "markdown",
      "metadata": {
        "id": "KbC4gtb0Wo4u"
      },
      "source": [
        "**[Slide No.- 35]**\n",
        "\n",
        "2. Create a list in which at even places string are present and at odd places integervalue is present and the length of the string is 6."
      ]
    },
    {
      "cell_type": "code",
      "metadata": {
        "id": "BzIsIJzXWpMO",
        "colab": {
          "base_uri": "https://localhost:8080/"
        },
        "outputId": "1fd612c4-6d9c-4d97-ad80-85d4aa1e2cc2"
      },
      "source": [
        "list1 = [\"A\",1,\"b\",2,'c',3]\n",
        "len(list1)\n"
      ],
      "execution_count": 27,
      "outputs": [
        {
          "output_type": "execute_result",
          "data": {
            "text/plain": [
              "6"
            ]
          },
          "metadata": {
            "tags": []
          },
          "execution_count": 27
        }
      ]
    },
    {
      "cell_type": "markdown",
      "metadata": {
        "id": "NhGbCdSfTFa7"
      },
      "source": [
        "**[Slide No. - 36]**\n",
        "\n",
        "3. Create a lsit which has 6 elements and print last three elements from the list "
      ]
    },
    {
      "cell_type": "code",
      "metadata": {
        "id": "SUzgZi8DTF5C",
        "colab": {
          "base_uri": "https://localhost:8080/"
        },
        "outputId": "d9126704-a7d7-483e-f27f-f7fe6cab6a06"
      },
      "source": [
        "list1 = [\"A\",1,\"b\",2,'c',3]\n",
        "list1[-3:]"
      ],
      "execution_count": 29,
      "outputs": [
        {
          "output_type": "execute_result",
          "data": {
            "text/plain": [
              "[2, 'c', 3]"
            ]
          },
          "metadata": {
            "tags": []
          },
          "execution_count": 29
        }
      ]
    },
    {
      "cell_type": "markdown",
      "metadata": {
        "id": "3LhHLCB6Tm8K"
      },
      "source": [
        "**[Slide No. - 36 ]**\n",
        "\n",
        "4. What is the output :\n",
        " list = [1,2,3,4,5,6,7] \n",
        " \n",
        " list[:]=?"
      ]
    },
    {
      "cell_type": "code",
      "metadata": {
        "id": "zfkX5LLzTnXP",
        "colab": {
          "base_uri": "https://localhost:8080/"
        },
        "outputId": "bcf319f5-fb1d-4287-aa8b-5d1359efd06d"
      },
      "source": [
        "list = [1,2,3,4,5,6,7]\n",
        "list[:]\n"
      ],
      "execution_count": 30,
      "outputs": [
        {
          "output_type": "execute_result",
          "data": {
            "text/plain": [
              "[1, 2, 3, 4, 5, 6, 7]"
            ]
          },
          "metadata": {
            "tags": []
          },
          "execution_count": 30
        }
      ]
    },
    {
      "cell_type": "markdown",
      "metadata": {
        "id": "93qfPdkuTnfg"
      },
      "source": [
        "**[Slide No. - 36]**\n",
        "\n",
        "5. What is the output : list = [1,2,3,4,5,6,7]\n",
        "\n",
        "Print the even places items from the list."
      ]
    },
    {
      "cell_type": "code",
      "metadata": {
        "id": "otaNABAtTnrp",
        "colab": {
          "base_uri": "https://localhost:8080/"
        },
        "outputId": "34745c0b-4788-4ba3-ec8e-30bc9b456180"
      },
      "source": [
        "\n"
      ],
      "execution_count": null,
      "outputs": [
        {
          "output_type": "stream",
          "text": [
            "[1, 5]\n"
          ],
          "name": "stdout"
        }
      ]
    },
    {
      "cell_type": "markdown",
      "metadata": {
        "id": "SdSk9Z-vTn4h"
      },
      "source": [
        "**[Slide No. - 36]**\n",
        "\n",
        "6. What is the output : list = [1,2,3,4,10,11,7]\n",
        "\n",
        "print 10 and 11 item from the list ."
      ]
    },
    {
      "cell_type": "code",
      "metadata": {
        "id": "i9rupinIToAR",
        "colab": {
          "base_uri": "https://localhost:8080/"
        },
        "outputId": "f36276fd-0004-4fd5-f130-e44def48c3d7"
      },
      "source": [
        "list = [1,2,3,4,10,11,7]\n",
        "list[4:6]\n"
      ],
      "execution_count": 32,
      "outputs": [
        {
          "output_type": "execute_result",
          "data": {
            "text/plain": [
              "[10, 11]"
            ]
          },
          "metadata": {
            "tags": []
          },
          "execution_count": 32
        }
      ]
    },
    {
      "cell_type": "code",
      "metadata": {
        "colab": {
          "base_uri": "https://localhost:8080/"
        },
        "id": "MwcV2xqgOIb9",
        "outputId": "038e75c3-1912-4ce6-fb61-b3415472221c"
      },
      "source": [
        ""
      ],
      "execution_count": null,
      "outputs": [
        {
          "output_type": "execute_result",
          "data": {
            "text/plain": [
              "[7, 11, 10, 4, 3, 2, 1]"
            ]
          },
          "metadata": {
            "tags": []
          },
          "execution_count": 10
        }
      ]
    },
    {
      "cell_type": "markdown",
      "metadata": {
        "id": "jKf-xLTiToHF"
      },
      "source": [
        "**[Slide No. -38]**\n",
        "\n",
        "7.  Delete the 3 index value from the list and the print the list.\n",
        "\n",
        "list = [1, 2, 3, 4, 5, 6]    \n",
        "\n",
        "print(list)    \n",
        "    \n",
        " "
      ]
    },
    {
      "cell_type": "code",
      "metadata": {
        "id": "YSwSSoZSToQT",
        "colab": {
          "base_uri": "https://localhost:8080/"
        },
        "outputId": "437cdbb9-ef3a-4ee8-ce39-1b2be382cb7d"
      },
      "source": [
        "list = [1, 2, 3, 4, 5, 6]\n",
        "list.pop(3)\n",
        "list\n"
      ],
      "execution_count": 37,
      "outputs": [
        {
          "output_type": "execute_result",
          "data": {
            "text/plain": [
              "[1, 2, 3, 5, 6]"
            ]
          },
          "metadata": {
            "tags": []
          },
          "execution_count": 37
        }
      ]
    },
    {
      "cell_type": "code",
      "metadata": {
        "colab": {
          "base_uri": "https://localhost:8080/"
        },
        "id": "mX3qq3_NPGbL",
        "outputId": "196829d8-51cd-41d7-c6f3-391b07ccceb7"
      },
      "source": [
        "\n"
      ],
      "execution_count": null,
      "outputs": [
        {
          "output_type": "stream",
          "text": [
            "[1, 2, 3, 5, 6]\n"
          ],
          "name": "stdout"
        }
      ]
    },
    {
      "cell_type": "markdown",
      "metadata": {
        "id": "XqIA7Ia9Umga"
      },
      "source": [
        "[Slide No. - 37]\n",
        "8. list = [1, \"a\", 3, 4, 5, 6] \n",
        "\n",
        "replace \"a\" by 2 in the list\n",
        "\n",
        "What is the new list?"
      ]
    },
    {
      "cell_type": "code",
      "metadata": {
        "id": "fCgmnwKlUm7K",
        "colab": {
          "base_uri": "https://localhost:8080/"
        },
        "outputId": "c91cbb9a-18aa-4cb6-8f62-76d370ff222d"
      },
      "source": [
        "list = [1, \"a\", 3, 4, 5, 6]\n",
        "list[1]=2\n",
        "list\n"
      ],
      "execution_count": 41,
      "outputs": [
        {
          "output_type": "execute_result",
          "data": {
            "text/plain": [
              "[1, 2, 3, 4, 5, 6]"
            ]
          },
          "metadata": {
            "tags": []
          },
          "execution_count": 41
        }
      ]
    },
    {
      "cell_type": "code",
      "metadata": {
        "colab": {
          "base_uri": "https://localhost:8080/"
        },
        "id": "RGKbvZV9QXqw",
        "outputId": "46e5d011-cf6e-4189-ea49-7fc93a8292a8"
      },
      "source": [
        ""
      ],
      "execution_count": null,
      "outputs": [
        {
          "output_type": "stream",
          "text": [
            "Krish\n"
          ],
          "name": "stdout"
        }
      ]
    },
    {
      "cell_type": "markdown",
      "metadata": {
        "id": "PbqBBeiMUnMA"
      },
      "source": [
        "**[Slide No - 37]**\n",
        "\n",
        "9. list = [1, 2, 3, 4, 5, 6] \n",
        "\n",
        "by using neagtive indexing replace 5 by 'e' in the list \n",
        "\n",
        "print(list)"
      ]
    },
    {
      "cell_type": "code",
      "metadata": {
        "id": "EsvRWH48UnWJ",
        "colab": {
          "base_uri": "https://localhost:8080/"
        },
        "outputId": "30dae0a5-16de-4d38-f74f-c22fd17bc963"
      },
      "source": [
        "list = [1, 2, 3, 4, 5, 6]\n",
        "list[-2]='e'\n",
        "list\n"
      ],
      "execution_count": 42,
      "outputs": [
        {
          "output_type": "execute_result",
          "data": {
            "text/plain": [
              "[1, 2, 3, 4, 'e', 6]"
            ]
          },
          "metadata": {
            "tags": []
          },
          "execution_count": 42
        }
      ]
    },
    {
      "cell_type": "markdown",
      "metadata": {
        "id": "-2YsXQGKVGxY"
      },
      "source": [
        "**[Slide No. - 37]**\n",
        "\n",
        "10. list = [1, 2, 3, 4, 5, 6] \n",
        "\n",
        "replace 1st and 2nd index value by (89,78)\n",
        "\n",
        "print(list) "
      ]
    },
    {
      "cell_type": "code",
      "metadata": {
        "id": "G3JxP2ToVGCt",
        "colab": {
          "base_uri": "https://localhost:8080/"
        },
        "outputId": "c81c2f5d-9e3f-44bd-9e0e-0a57b8fd3d6e"
      },
      "source": [
        "list = [1, 2, 3, 4, 5, 6]\n",
        "list[1:3]=89,78\n",
        "list"
      ],
      "execution_count": 45,
      "outputs": [
        {
          "output_type": "execute_result",
          "data": {
            "text/plain": [
              "[1, 89, 78, 4, 5, 6]"
            ]
          },
          "metadata": {
            "tags": []
          },
          "execution_count": 45
        }
      ]
    },
    {
      "cell_type": "markdown",
      "metadata": {
        "id": "5PEGDtZgVeTB"
      },
      "source": [
        "**[Slide No. -38]**\n",
        "\n",
        "11. Create a list and delete 2 to 4 index value  from list ?"
      ]
    },
    {
      "cell_type": "code",
      "metadata": {
        "id": "tuy0DMDqZ7Ux",
        "colab": {
          "base_uri": "https://localhost:8080/"
        },
        "outputId": "8a1043ff-061c-41b7-e750-200e2cbdb54e"
      },
      "source": [
        "list = [1, 2, 3, 4, 5, 6]\n",
        "list.pop(2),list.pop(4)\n",
        "list\n"
      ],
      "execution_count": 54,
      "outputs": [
        {
          "output_type": "execute_result",
          "data": {
            "text/plain": [
              "[1, 2, 4, 5]"
            ]
          },
          "metadata": {
            "tags": []
          },
          "execution_count": 54
        }
      ]
    },
    {
      "cell_type": "markdown",
      "metadata": {
        "id": "-OszCxUMZ8GW"
      },
      "source": [
        "**[Slide No.- 39]**\n",
        "\n",
        "12. Rermove Science  item from the list.\n",
        "\n",
        "Subject =['math', 'science', 'hindi', 'SST', 'Sanskrit']\n"
      ]
    },
    {
      "cell_type": "code",
      "metadata": {
        "id": "PwSvcAWJVexl",
        "colab": {
          "base_uri": "https://localhost:8080/"
        },
        "outputId": "69573b55-3664-4e58-f047-19723e92fc70"
      },
      "source": [
        "listsubject =['math', 'science', 'hindi', 'SST', 'Sanskrit']\n",
        "listsubject.pop(1)\n",
        "listsubject\n"
      ],
      "execution_count": 58,
      "outputs": [
        {
          "output_type": "execute_result",
          "data": {
            "text/plain": [
              "['math', 'hindi', 'SST', 'Sanskrit']"
            ]
          },
          "metadata": {
            "tags": []
          },
          "execution_count": 58
        }
      ]
    },
    {
      "cell_type": "code",
      "metadata": {
        "colab": {
          "base_uri": "https://localhost:8080/"
        },
        "id": "L2loVsc_TFSq",
        "outputId": "97e088dd-e4b5-47f5-ef64-42e024961b0e"
      },
      "source": [
        ""
      ],
      "execution_count": null,
      "outputs": [
        {
          "output_type": "execute_result",
          "data": {
            "text/plain": [
              "['math', 'hindi', 'SST', 'Sanskrit']"
            ]
          },
          "metadata": {
            "tags": []
          },
          "execution_count": 24
        }
      ]
    },
    {
      "cell_type": "code",
      "metadata": {
        "id": "udi7tJ8kTsuB"
      },
      "source": [
        ""
      ],
      "execution_count": null,
      "outputs": []
    }
  ]
}